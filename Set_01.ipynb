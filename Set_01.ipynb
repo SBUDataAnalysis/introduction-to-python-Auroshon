{
  "nbformat": 4,
  "nbformat_minor": 0,
  "metadata": {
    "colab": {
      "name": "Copy of Copy of Copy of Set_01.ipynb",
      "provenance": [],
      "collapsed_sections": [
        "03P8_w5l-Qeo",
        "_6aNCn3BEsI9",
        "tabEhDpGF2Oc",
        "I7CQa_pOGqeR",
        "oKPq6XV_Hn_i",
        "k55bka7DJAjh",
        "8ZTtQ6ZnGMOL",
        "mxwqFfuUIh8z",
        "Aljr12tMI-Vl",
        "XRiARr0OJVY-",
        "DL-uBXefKbIS",
        "saZ3z0KYTUWj"
      ]
    },
    "kernelspec": {
      "name": "python3",
      "display_name": "Python 3"
    },
    "language_info": {
      "name": "python"
    }
  },
  "cells": [
    {
      "cell_type": "markdown",
      "source": [
        "The first program"
      ],
      "metadata": {
        "id": "RlM5hY6G-ChB"
      }
    },
    {
      "cell_type": "code",
      "execution_count": null,
      "metadata": {
        "colab": {
          "base_uri": "https://localhost:8080/"
        },
        "id": "0pr3r94U9pKV",
        "outputId": "f892de44-3141-4e98-a8b7-c694ba024d91"
      },
      "outputs": [
        {
          "output_type": "stream",
          "name": "stdout",
          "text": [
            "Hello world!\n"
          ]
        }
      ],
      "source": [
        "print('Hello world!')"
      ]
    },
    {
      "cell_type": "markdown",
      "source": [
        "## Lists, sets and tuples"
      ],
      "metadata": {
        "id": "03P8_w5l-Qeo"
      }
    },
    {
      "cell_type": "code",
      "source": [
        "a = [1, 1, 2, 3, 5, 2, 6, 7, 7, 5]  #This is a list\n",
        "b = {1, 1, 2, 3, 5, 2, 6, 7, 7, 5}  #This is a set\n",
        "c = (1, 1, 2, 3, 5, 2, 6, 7, 7, 5)  #This is a tuple"
      ],
      "metadata": {
        "id": "b62OnUiR-JmP"
      },
      "execution_count": null,
      "outputs": []
    },
    {
      "cell_type": "markdown",
      "source": [
        "Now print each one to see what's the difference between them."
      ],
      "metadata": {
        "id": "BWK-UpXh_mCD"
      }
    },
    {
      "cell_type": "code",
      "source": [
        "print('a =', a)\n",
        "print('b =', b)\n",
        "print('c =', c)"
      ],
      "metadata": {
        "colab": {
          "base_uri": "https://localhost:8080/"
        },
        "id": "IbV7UwrT_Ws4",
        "outputId": "b0aa766c-745b-49b2-9fb2-7882f35ae28f"
      },
      "execution_count": null,
      "outputs": [
        {
          "output_type": "stream",
          "name": "stdout",
          "text": [
            "a = [1, 1, 2, 3, 5, 2, 6, 7, 7, 5]\n",
            "b = {1, 2, 3, 5, 6, 7}\n",
            "c = (1, 1, 2, 3, 5, 2, 6, 7, 7, 5)\n"
          ]
        }
      ]
    },
    {
      "cell_type": "markdown",
      "source": [
        "As you see, sets behave in the way that we expect from math, they only keep one instance of each member and disregard the rest. We can put all kinds of objects in a set, list or tuple."
      ],
      "metadata": {
        "id": "hxbBiYR-_vOM"
      }
    },
    {
      "cell_type": "code",
      "source": [
        "d = ['Salam', 'Sib', 35.43, 12, b, 'x'+'y', 44]\n",
        "print(d)"
      ],
      "metadata": {
        "colab": {
          "base_uri": "https://localhost:8080/"
        },
        "id": "3A2HVSGk_hyF",
        "outputId": "39719af5-c166-4013-e270-483ecd37f224"
      },
      "execution_count": null,
      "outputs": [
        {
          "output_type": "stream",
          "name": "stdout",
          "text": [
            "['Salam', 'Sib', 35.43, 12, {1, 2, 3, 5, 6, 7}, 'xy', 44]\n"
          ]
        }
      ]
    },
    {
      "cell_type": "markdown",
      "source": [
        " Also try this for a set and a tuple and print the results."
      ],
      "metadata": {
        "id": "kQ6QFyvABDlu"
      }
    },
    {
      "cell_type": "code",
      "source": [
        "e = {'Salam', 'Sib', 35.43, 12, c, 'x'+'y', 44}\n",
        "print(e)\n",
        "d = ('Salam', 'Sib', 35.43, 12, b, 'x'+'y', 44)\n",
        "print(d)"
      ],
      "metadata": {
        "id": "VPQyjZzfATxQ",
        "colab": {
          "base_uri": "https://localhost:8080/"
        },
        "outputId": "eb2df76a-452b-45d0-c09c-50d1cc8fe921"
      },
      "execution_count": null,
      "outputs": [
        {
          "output_type": "stream",
          "name": "stdout",
          "text": [
            "{35.43, 'Sib', 12, 44, 'xy', 'Salam', (1, 1, 2, 3, 5, 2, 6, 7, 7, 5)}\n",
            "('Salam', 'Sib', 35.43, 12, {1, 2, 3, 5, 6, 7}, 'xy', 44)\n"
          ]
        }
      ]
    },
    {
      "cell_type": "markdown",
      "source": [
        "Now let's see the differense between lists and tuples."
      ],
      "metadata": {
        "id": "85cvYMhjCM8Z"
      }
    },
    {
      "cell_type": "code",
      "source": [
        "a.append([32, 54, 'Adas'])\n",
        "print(a)"
      ],
      "metadata": {
        "colab": {
          "base_uri": "https://localhost:8080/"
        },
        "id": "OqFUXYSLBTwy",
        "outputId": "2c703017-5f78-4f4d-da16-460de966d285"
      },
      "execution_count": null,
      "outputs": [
        {
          "output_type": "stream",
          "name": "stdout",
          "text": [
            "[1, 1, 2, 3, 5, 2, 6, 7, 7, 5, [32, 54, 'Adas']]\n"
          ]
        }
      ]
    },
    {
      "cell_type": "code",
      "source": [
        "a.remove(7)\n",
        "print(a)"
      ],
      "metadata": {
        "colab": {
          "base_uri": "https://localhost:8080/"
        },
        "id": "zoa1EKeRC7d1",
        "outputId": "1a2571ac-4d21-485e-b50b-f299ba4a13ce"
      },
      "execution_count": null,
      "outputs": [
        {
          "output_type": "stream",
          "name": "stdout",
          "text": [
            "[1, 1, 2, 3, 5, 2, 6, 7, 5, [32, 54, 'Adas']]\n"
          ]
        }
      ]
    },
    {
      "cell_type": "code",
      "source": [
        "c.count(1)"
      ],
      "metadata": {
        "colab": {
          "base_uri": "https://localhost:8080/"
        },
        "id": "oqhRk2cmDHYq",
        "outputId": "6501f33f-0023-47d3-d46f-a7500872e248"
      },
      "execution_count": null,
      "outputs": [
        {
          "output_type": "execute_result",
          "data": {
            "text/plain": [
              "2"
            ]
          },
          "metadata": {},
          "execution_count": 113
        }
      ]
    },
    {
      "cell_type": "markdown",
      "source": [
        "In general, tuples are faster than lists, but lists have many more atributes and options. To see which options either have, type the variable with dot (\".\") after it and wait to see the options. To see what each option will do, you can type a question mark (\"?\") before it and run the cell. Now run the cell below and see what happens."
      ],
      "metadata": {
        "id": "DdHn5DE_DYcT"
      }
    },
    {
      "cell_type": "code",
      "source": [
        "?a.sort"
      ],
      "metadata": {
        "id": "oCXXkeiYDRVU"
      },
      "execution_count": null,
      "outputs": []
    },
    {
      "cell_type": "markdown",
      "source": [
        "Now using the options introduced above, try to make the list \"a\" to look like the tuple \"b\"."
      ],
      "metadata": {
        "id": "lBgLNtc5FBRd"
      }
    },
    {
      "cell_type": "code",
      "source": [
        "a.sort\n",
        "a.remove([32, 54, 'Adas'])\n",
        "print(a)\n",
        "a.insert(8,7)\n",
        "print(\"a=\",a)\n",
        "print(\"c=\",c)\n"
      ],
      "metadata": {
        "id": "xIzDK-nzFRMx",
        "colab": {
          "base_uri": "https://localhost:8080/"
        },
        "outputId": "80d85ce0-257e-4538-c379-1d3a6b0bc732"
      },
      "execution_count": null,
      "outputs": [
        {
          "output_type": "stream",
          "name": "stdout",
          "text": [
            "[1, 1, 2, 3, 5, 2, 6, 7, 5]\n",
            "a= [1, 1, 2, 3, 5, 2, 6, 7, 7, 5]\n",
            "c= (1, 1, 2, 3, 5, 2, 6, 7, 7, 5)\n"
          ]
        }
      ]
    },
    {
      "cell_type": "markdown",
      "source": [
        "# Loops and indexing"
      ],
      "metadata": {
        "id": "_6aNCn3BEsI9"
      }
    },
    {
      "cell_type": "markdown",
      "source": [
        "You can access the members of a list (or tuple) with indexing them as follows:"
      ],
      "metadata": {
        "id": "MOyuvrKdE1Uo"
      }
    },
    {
      "cell_type": "code",
      "source": [
        "print('The first member of tuple \"c\" is:', c[0])\n",
        "print('The third member of tuple \"c\" is:', c[2])\n",
        "print('The last member of tuple \"c\" is:', c[-1])\n",
        "print('The third to last member of tuple \"c\" is:', c[-3])"
      ],
      "metadata": {
        "colab": {
          "base_uri": "https://localhost:8080/"
        },
        "id": "1QpIBOKOEXG3",
        "outputId": "00df8f4f-5010-493f-f99f-18efcfd28318"
      },
      "execution_count": null,
      "outputs": [
        {
          "output_type": "stream",
          "name": "stdout",
          "text": [
            "The first member of tuple \"c\" is: 1\n",
            "The third member of tuple \"c\" is: 2\n",
            "The last member of tuple \"c\" is: 5\n",
            "The third to last member of tuple \"c\" is: 7\n"
          ]
        }
      ]
    },
    {
      "cell_type": "markdown",
      "source": [
        "## For loops\n",
        "Let's see two examples"
      ],
      "metadata": {
        "id": "tabEhDpGF2Oc"
      }
    },
    {
      "cell_type": "code",
      "source": [
        "for i in range(5):\n",
        "  print(i)"
      ],
      "metadata": {
        "colab": {
          "base_uri": "https://localhost:8080/"
        },
        "id": "jpW9oM01FfdT",
        "outputId": "7dbe5a17-3fb1-4231-a039-4b781ae568e0"
      },
      "execution_count": null,
      "outputs": [
        {
          "output_type": "stream",
          "name": "stdout",
          "text": [
            "0\n",
            "1\n",
            "2\n",
            "3\n",
            "4\n"
          ]
        }
      ]
    },
    {
      "cell_type": "code",
      "source": [
        "for cc in c:\n",
        "  print(cc**2)"
      ],
      "metadata": {
        "colab": {
          "base_uri": "https://localhost:8080/"
        },
        "id": "O5_YYt9uGDfk",
        "outputId": "ceacf547-217f-4bed-c82f-42524aad8683"
      },
      "execution_count": null,
      "outputs": [
        {
          "output_type": "stream",
          "name": "stdout",
          "text": [
            "1\n",
            "1\n",
            "4\n",
            "9\n",
            "25\n",
            "4\n",
            "36\n",
            "49\n",
            "49\n",
            "25\n"
          ]
        }
      ]
    },
    {
      "cell_type": "markdown",
      "source": [
        "Now write a code to print the members of \"a\" list defiend as below in reverse order."
      ],
      "metadata": {
        "id": "Ewev8_ZtGU9w"
      }
    },
    {
      "cell_type": "code",
      "source": [
        "a = [1, 1, 2, 3, 5, 2, 6, 7, 7, 5, [32, 54, 'Adas']]\n",
        "\n",
        "for i in range(...):\n",
        "  ..."
      ],
      "metadata": {
        "id": "tPYkPZgTGRBz"
      },
      "execution_count": null,
      "outputs": []
    },
    {
      "cell_type": "markdown",
      "source": [
        "## While loops\n",
        "It runs while the argument is true. Compelete the code below to get the desired result."
      ],
      "metadata": {
        "id": "I7CQa_pOGqeR"
      }
    },
    {
      "cell_type": "code",
      "source": [
        "i = ...\n",
        "while i >= 0:\n",
        "  print(a[i])\n",
        "  ..."
      ],
      "metadata": {
        "colab": {
          "base_uri": "https://localhost:8080/"
        },
        "id": "0pQ3WhhCGn6h",
        "outputId": "cd77bbc6-0e52-4d14-c5ac-ede5128717a5"
      },
      "execution_count": null,
      "outputs": [
        {
          "output_type": "stream",
          "name": "stdout",
          "text": [
            "[32, 54, 'Adas']\n",
            "5\n",
            "7\n",
            "6\n",
            "2\n",
            "5\n",
            "3\n",
            "2\n",
            "1\n",
            "1\n"
          ]
        }
      ]
    },
    {
      "cell_type": "markdown",
      "source": [
        "# if, else, elif"
      ],
      "metadata": {
        "id": "oKPq6XV_Hn_i"
      }
    },
    {
      "cell_type": "code",
      "source": [
        "x = 5\n",
        "\n",
        "if x > 5:\n",
        "  print('Yay!!')\n",
        "\n",
        "elif x < 5:\n",
        "  print(\"Nay :(\")\n",
        "\n",
        "else:\n",
        "  print(\"Meh..\")"
      ],
      "metadata": {
        "colab": {
          "base_uri": "https://localhost:8080/"
        },
        "id": "Nnq513PxHOpD",
        "outputId": "f7e87e3f-7076-4bc7-8359-4fd49b316684"
      },
      "execution_count": null,
      "outputs": [
        {
          "output_type": "stream",
          "name": "stdout",
          "text": [
            "Meh..\n"
          ]
        }
      ]
    },
    {
      "cell_type": "markdown",
      "source": [
        "Now using the example provided above and your knowledge of loops, write a piece of code to print the apropriate messages for each member of the tuple \"c\". "
      ],
      "metadata": {
        "id": "H27B7x6oIOj6"
      }
    },
    {
      "cell_type": "code",
      "source": [
        "for i in range(10):\n",
        "    if c[i] < 3:\n",
        "        print(\"c[\",i,\"] = \",c[i],\" : 1!\")\n",
        "    elif  c[i] > 6:\n",
        "        print(\"c[\",i,\"] = \",c[i],\" : error :(\")\n",
        "    else:\n",
        "        print(\"c[\",i,\"] = \",c[i],\" : o\")"
      ],
      "metadata": {
        "id": "MN6CjQSBjZAA",
        "outputId": "4ebc7f43-5d5c-49c8-9a2f-3c2a5c82fdc1",
        "colab": {
          "base_uri": "https://localhost:8080/"
        }
      },
      "execution_count": null,
      "outputs": [
        {
          "output_type": "stream",
          "name": "stdout",
          "text": [
            "c[ 0 ] =  1  : 1!\n",
            "c[ 1 ] =  1  : 1!\n",
            "c[ 2 ] =  2  : 1!\n",
            "c[ 3 ] =  3  : o\n",
            "c[ 4 ] =  5  : o\n",
            "c[ 5 ] =  2  : 1!\n",
            "c[ 6 ] =  6  : o\n",
            "c[ 7 ] =  7  : error :(\n",
            "c[ 8 ] =  7  : error :(\n",
            "c[ 9 ] =  5  : o\n"
          ]
        }
      ]
    },
    {
      "cell_type": "markdown",
      "source": [
        "\n"
      ],
      "metadata": {
        "id": "4-oT2K60gTuk"
      }
    },
    {
      "cell_type": "markdown",
      "source": [
        "# Libraries"
      ],
      "metadata": {
        "id": "k55bka7DJAjh"
      }
    },
    {
      "cell_type": "markdown",
      "source": [
        "Libraries are collections of many pre-written programs that enable us to write code much more easily. In other words, it's like importing a library expands available python commands.\n",
        "\n",
        "There are three ways to import commands from library.\n",
        "\n",
        "### 1) Import the whole library"
      ],
      "metadata": {
        "id": "8ZTtQ6ZnGMOL"
      }
    },
    {
      "cell_type": "code",
      "source": [
        "import time"
      ],
      "metadata": {
        "id": "ocTrk5zdJEli"
      },
      "execution_count": null,
      "outputs": []
    },
    {
      "cell_type": "markdown",
      "source": [
        "Now we can use the commands inside \"time\" by using the familirar \"dot\" operator."
      ],
      "metadata": {
        "id": "qOaiUuJKHBZE"
      }
    },
    {
      "cell_type": "code",
      "source": [
        "print(time.localtime())"
      ],
      "metadata": {
        "colab": {
          "base_uri": "https://localhost:8080/"
        },
        "id": "AX7uLHGSHVBo",
        "outputId": "46433db8-03de-4cd4-a670-9b0d3f853cc1"
      },
      "execution_count": null,
      "outputs": [
        {
          "output_type": "stream",
          "name": "stdout",
          "text": [
            "time.struct_time(tm_year=2022, tm_mon=2, tm_mday=25, tm_hour=14, tm_min=58, tm_sec=9, tm_wday=4, tm_yday=56, tm_isdst=0)\n"
          ]
        }
      ]
    },
    {
      "cell_type": "markdown",
      "source": [
        "### 2) Import certain functions (or classes) from a library"
      ],
      "metadata": {
        "id": "mxwqFfuUIh8z"
      }
    },
    {
      "cell_type": "code",
      "source": [
        "from math import pi, sin"
      ],
      "metadata": {
        "id": "fvhfYqyfIVJO"
      },
      "execution_count": null,
      "outputs": []
    },
    {
      "cell_type": "code",
      "source": [
        "print(sin(pi/2))"
      ],
      "metadata": {
        "colab": {
          "base_uri": "https://localhost:8080/"
        },
        "id": "LpVcic_mI4tG",
        "outputId": "0b3665f4-9e44-4037-a37a-adf09af060d1"
      },
      "execution_count": null,
      "outputs": [
        {
          "output_type": "stream",
          "name": "stdout",
          "text": [
            "1.0\n"
          ]
        }
      ]
    },
    {
      "cell_type": "markdown",
      "source": [
        "### 3) Import the whole library or certain commands with a different name"
      ],
      "metadata": {
        "id": "Aljr12tMI-Vl"
      }
    },
    {
      "cell_type": "code",
      "source": [
        "import numpy as np\n",
        "from matplotlib import pyplot as plt"
      ],
      "metadata": {
        "id": "iSpdWAgCI7S6"
      },
      "execution_count": null,
      "outputs": []
    },
    {
      "cell_type": "markdown",
      "source": [
        "We are going to learn how to use these two libraries in the next section.\n",
        "\n",
        "## Installing new libraries in Google colab\n",
        "\n",
        "To do this you need the command \"pip\"."
      ],
      "metadata": {
        "id": "XRiARr0OJVY-"
      }
    },
    {
      "cell_type": "code",
      "source": [
        "!pip install sxs"
      ],
      "metadata": {
        "id": "bcFsepOnJROc",
        "colab": {
          "base_uri": "https://localhost:8080/",
          "height": 1000
        },
        "outputId": "0d523191-a6f4-4b43-c605-e1d9f501a975"
      },
      "execution_count": null,
      "outputs": [
        {
          "output_type": "stream",
          "name": "stdout",
          "text": [
            "Collecting sxs\n",
            "  Downloading sxs-2021.0.5-py3-none-any.whl (177 kB)\n",
            "\u001b[K     |████████████████████████████████| 177 kB 5.3 MB/s \n",
            "\u001b[?25hRequirement already satisfied: h5py<4,>=3 in /usr/local/lib/python3.7/dist-packages (from sxs) (3.1.0)\n",
            "Requirement already satisfied: scipy<2.0,>=1.0 in /usr/local/lib/python3.7/dist-packages (from sxs) (1.4.1)\n",
            "Requirement already satisfied: numba>=0.50 in /usr/local/lib/python3.7/dist-packages (from sxs) (0.51.2)\n",
            "Collecting urllib3<2.0.0,>=1.25.10\n",
            "  Downloading urllib3-1.26.8-py2.py3-none-any.whl (138 kB)\n",
            "\u001b[K     |████████████████████████████████| 138 kB 52.9 MB/s \n",
            "\u001b[?25hCollecting quaternionic<2.0,>=1.0\n",
            "  Downloading quaternionic-1.0.1-py3-none-any.whl (34 kB)\n",
            "Collecting tqdm<4.61.2,>=4.48.2\n",
            "  Downloading tqdm-4.61.1-py2.py3-none-any.whl (75 kB)\n",
            "\u001b[K     |████████████████████████████████| 75 kB 4.4 MB/s \n",
            "\u001b[?25hCollecting feedparser<7.0.0,>=6.0.1\n",
            "  Downloading feedparser-6.0.8-py3-none-any.whl (81 kB)\n",
            "\u001b[K     |████████████████████████████████| 81 kB 9.1 MB/s \n",
            "\u001b[?25hCollecting importlib-metadata<2.0,>=1.0\n",
            "  Downloading importlib_metadata-1.7.0-py2.py3-none-any.whl (31 kB)\n",
            "Requirement already satisfied: pandas<2.0.0,>=1.1.2 in /usr/local/lib/python3.7/dist-packages (from sxs) (1.3.5)\n",
            "Collecting pytz<2021.0,>=2020.1\n",
            "  Downloading pytz-2020.5-py2.py3-none-any.whl (510 kB)\n",
            "\u001b[K     |████████████████████████████████| 510 kB 57.2 MB/s \n",
            "\u001b[?25hCollecting spinsfast<105,>=104\n",
            "  Downloading spinsfast-104.2022.2.8.21.41.41.tar.gz (986 kB)\n",
            "\u001b[K     |████████████████████████████████| 986 kB 49.1 MB/s \n",
            "\u001b[?25h  Installing build dependencies ... \u001b[?25l\u001b[?25hdone\n",
            "  Getting requirements to build wheel ... \u001b[?25l\u001b[?25hdone\n",
            "    Preparing wheel metadata ... \u001b[?25l\u001b[?25hdone\n",
            "\u001b[33mWARNING: Discarding https://files.pythonhosted.org/packages/f4/39/82a434b8173f62bd63a3aeb1969aaf2842518cfef54b39cd88d7c41b55aa/spinsfast-104.2022.2.8.21.41.41.tar.gz#sha256=085a6337730e79cb4a1a74e239d870597f11be7c955c2ee15aaf7af46616715d (from https://pypi.org/simple/spinsfast/). Requested spinsfast<105,>=104 from https://files.pythonhosted.org/packages/f4/39/82a434b8173f62bd63a3aeb1969aaf2842518cfef54b39cd88d7c41b55aa/spinsfast-104.2022.2.8.21.41.41.tar.gz#sha256=085a6337730e79cb4a1a74e239d870597f11be7c955c2ee15aaf7af46616715d (from sxs) has inconsistent version: filename has '104.2022.2.8.21.41.41', but metadata has '104.2022.2.25.15.1.46'\u001b[0m\n",
            "  Downloading spinsfast-104.2021.3.22.15.7.51-cp37-cp37m-manylinux1_x86_64.whl (539 kB)\n",
            "\u001b[K     |████████████████████████████████| 539 kB 55.5 MB/s \n",
            "\u001b[?25hCollecting black>=20.8b1\n",
            "  Downloading black-22.1.0-cp37-cp37m-manylinux_2_17_x86_64.manylinux2014_x86_64.whl (1.4 MB)\n",
            "\u001b[K     |████████████████████████████████| 1.4 MB 41.7 MB/s \n",
            "\u001b[?25hCollecting pytest-forked<2.0.0,>=1.3.0\n",
            "  Downloading pytest_forked-1.4.0-py3-none-any.whl (4.9 kB)\n",
            "Collecting spherical<2.0,>=1.0\n",
            "  Downloading spherical-1.0.10-py3-none-any.whl (54 kB)\n",
            "\u001b[K     |████████████████████████████████| 54 kB 3.1 MB/s \n",
            "\u001b[?25hCollecting pylatexenc<3.0,>=2.7\n",
            "  Downloading pylatexenc-2.10.tar.gz (162 kB)\n",
            "\u001b[K     |████████████████████████████████| 162 kB 65.0 MB/s \n",
            "\u001b[?25hCollecting requests<3.0.0,>=2.24.0\n",
            "  Downloading requests-2.27.1-py2.py3-none-any.whl (63 kB)\n",
            "\u001b[K     |████████████████████████████████| 63 kB 1.7 MB/s \n",
            "\u001b[?25hRequirement already satisfied: numpy<2.0,>=1.15 in /usr/local/lib/python3.7/dist-packages (from sxs) (1.21.5)\n",
            "Collecting inflection<0.6.0,>=0.5.1\n",
            "  Downloading inflection-0.5.1-py2.py3-none-any.whl (9.5 kB)\n",
            "Collecting pathspec>=0.9.0\n",
            "  Downloading pathspec-0.9.0-py2.py3-none-any.whl (31 kB)\n",
            "Requirement already satisfied: tomli>=1.1.0 in /usr/local/lib/python3.7/dist-packages (from black>=20.8b1->sxs) (2.0.1)\n",
            "Collecting mypy-extensions>=0.4.3\n",
            "  Downloading mypy_extensions-0.4.3-py2.py3-none-any.whl (4.5 kB)\n",
            "Collecting click>=8.0.0\n",
            "  Downloading click-8.0.4-py3-none-any.whl (97 kB)\n",
            "\u001b[K     |████████████████████████████████| 97 kB 6.8 MB/s \n",
            "\u001b[?25hCollecting typed-ast>=1.4.2\n",
            "  Downloading typed_ast-1.5.2-cp37-cp37m-manylinux_2_5_x86_64.manylinux1_x86_64.manylinux_2_12_x86_64.manylinux2010_x86_64.whl (843 kB)\n",
            "\u001b[K     |████████████████████████████████| 843 kB 49.3 MB/s \n",
            "\u001b[?25hCollecting platformdirs>=2\n",
            "  Downloading platformdirs-2.5.1-py3-none-any.whl (14 kB)\n",
            "Requirement already satisfied: typing-extensions>=3.10.0.0 in /usr/local/lib/python3.7/dist-packages (from black>=20.8b1->sxs) (3.10.0.2)\n",
            "Collecting sgmllib3k\n",
            "  Downloading sgmllib3k-1.0.0.tar.gz (5.8 kB)\n",
            "Requirement already satisfied: cached-property in /usr/local/lib/python3.7/dist-packages (from h5py<4,>=3->sxs) (1.5.2)\n",
            "Requirement already satisfied: zipp>=0.5 in /usr/local/lib/python3.7/dist-packages (from importlib-metadata<2.0,>=1.0->sxs) (3.7.0)\n",
            "Requirement already satisfied: llvmlite<0.35,>=0.34.0.dev0 in /usr/local/lib/python3.7/dist-packages (from numba>=0.50->sxs) (0.34.0)\n",
            "Requirement already satisfied: setuptools in /usr/local/lib/python3.7/dist-packages (from numba>=0.50->sxs) (57.4.0)\n",
            "Requirement already satisfied: python-dateutil>=2.7.3 in /usr/local/lib/python3.7/dist-packages (from pandas<2.0.0,>=1.1.2->sxs) (2.8.2)\n",
            "Requirement already satisfied: py in /usr/local/lib/python3.7/dist-packages (from pytest-forked<2.0.0,>=1.3.0->sxs) (1.11.0)\n",
            "Collecting pytest>=3.10\n",
            "  Downloading pytest-7.0.1-py3-none-any.whl (296 kB)\n",
            "\u001b[K     |████████████████████████████████| 296 kB 53.2 MB/s \n",
            "\u001b[?25hRequirement already satisfied: attrs>=19.2.0 in /usr/local/lib/python3.7/dist-packages (from pytest>=3.10->pytest-forked<2.0.0,>=1.3.0->sxs) (21.4.0)\n",
            "Requirement already satisfied: iniconfig in /usr/local/lib/python3.7/dist-packages (from pytest>=3.10->pytest-forked<2.0.0,>=1.3.0->sxs) (1.1.1)\n",
            "Collecting pluggy<2.0,>=0.12\n",
            "  Downloading pluggy-1.0.0-py2.py3-none-any.whl (13 kB)\n",
            "Requirement already satisfied: packaging in /usr/local/lib/python3.7/dist-packages (from pytest>=3.10->pytest-forked<2.0.0,>=1.3.0->sxs) (21.3)\n",
            "Requirement already satisfied: six>=1.5 in /usr/local/lib/python3.7/dist-packages (from python-dateutil>=2.7.3->pandas<2.0.0,>=1.1.2->sxs) (1.15.0)\n",
            "Requirement already satisfied: charset-normalizer~=2.0.0 in /usr/local/lib/python3.7/dist-packages (from requests<3.0.0,>=2.24.0->sxs) (2.0.12)\n",
            "Requirement already satisfied: certifi>=2017.4.17 in /usr/local/lib/python3.7/dist-packages (from requests<3.0.0,>=2.24.0->sxs) (2021.10.8)\n",
            "Requirement already satisfied: idna<4,>=2.5 in /usr/local/lib/python3.7/dist-packages (from requests<3.0.0,>=2.24.0->sxs) (2.10)\n",
            "Requirement already satisfied: pyparsing!=3.0.5,>=2.0.2 in /usr/local/lib/python3.7/dist-packages (from packaging->pytest>=3.10->pytest-forked<2.0.0,>=1.3.0->sxs) (3.0.7)\n",
            "Building wheels for collected packages: pylatexenc, sgmllib3k\n",
            "  Building wheel for pylatexenc (setup.py) ... \u001b[?25l\u001b[?25hdone\n",
            "  Created wheel for pylatexenc: filename=pylatexenc-2.10-py3-none-any.whl size=136835 sha256=6304ddde7fee766eff23c4697d581c54ce6302f995e5c7cbad3edbc0ae0d305e\n",
            "  Stored in directory: /root/.cache/pip/wheels/f1/8a/f5/33ee79d4473eb201b519fa40f989b842e373237395a3421f52\n",
            "  Building wheel for sgmllib3k (setup.py) ... \u001b[?25l\u001b[?25hdone\n",
            "  Created wheel for sgmllib3k: filename=sgmllib3k-1.0.0-py3-none-any.whl size=6066 sha256=efc013e959ba6ef7c18d0ffc003c378eb7477d6d557c91b2d5898ff12b4464bf\n",
            "  Stored in directory: /root/.cache/pip/wheels/73/ad/a4/0dff4a6ef231fc0dfa12ffbac2a36cebfdddfe059f50e019aa\n",
            "Successfully built pylatexenc sgmllib3k\n",
            "Installing collected packages: importlib-metadata, typed-ast, platformdirs, pathspec, mypy-extensions, click, pluggy, black, urllib3, spinsfast, sgmllib3k, quaternionic, pytz, pytest, tqdm, spherical, requests, pytest-forked, pylatexenc, inflection, feedparser, sxs\n",
            "  Attempting uninstall: importlib-metadata\n",
            "    Found existing installation: importlib-metadata 4.11.1\n",
            "    Uninstalling importlib-metadata-4.11.1:\n",
            "      Successfully uninstalled importlib-metadata-4.11.1\n",
            "  Attempting uninstall: click\n",
            "    Found existing installation: click 7.1.2\n",
            "    Uninstalling click-7.1.2:\n",
            "      Successfully uninstalled click-7.1.2\n",
            "  Attempting uninstall: pluggy\n",
            "    Found existing installation: pluggy 0.7.1\n",
            "    Uninstalling pluggy-0.7.1:\n",
            "      Successfully uninstalled pluggy-0.7.1\n",
            "  Attempting uninstall: urllib3\n",
            "    Found existing installation: urllib3 1.24.3\n",
            "    Uninstalling urllib3-1.24.3:\n",
            "      Successfully uninstalled urllib3-1.24.3\n",
            "  Attempting uninstall: pytz\n",
            "    Found existing installation: pytz 2018.9\n",
            "    Uninstalling pytz-2018.9:\n",
            "      Successfully uninstalled pytz-2018.9\n",
            "  Attempting uninstall: pytest\n",
            "    Found existing installation: pytest 3.6.4\n",
            "    Uninstalling pytest-3.6.4:\n",
            "      Successfully uninstalled pytest-3.6.4\n",
            "  Attempting uninstall: tqdm\n",
            "    Found existing installation: tqdm 4.62.3\n",
            "    Uninstalling tqdm-4.62.3:\n",
            "      Successfully uninstalled tqdm-4.62.3\n",
            "  Attempting uninstall: requests\n",
            "    Found existing installation: requests 2.23.0\n",
            "    Uninstalling requests-2.23.0:\n",
            "      Successfully uninstalled requests-2.23.0\n",
            "\u001b[31mERROR: pip's dependency resolver does not currently take into account all the packages that are installed. This behaviour is the source of the following dependency conflicts.\n",
            "markdown 3.3.6 requires importlib-metadata>=4.4; python_version < \"3.10\", but you have importlib-metadata 1.7.0 which is incompatible.\n",
            "google-colab 1.0.0 requires requests~=2.23.0, but you have requests 2.27.1 which is incompatible.\n",
            "flask 1.1.4 requires click<8.0,>=5.1, but you have click 8.0.4 which is incompatible.\n",
            "datascience 0.10.6 requires folium==0.2.1, but you have folium 0.8.3 which is incompatible.\u001b[0m\n",
            "Successfully installed black-22.1.0 click-8.0.4 feedparser-6.0.8 importlib-metadata-1.7.0 inflection-0.5.1 mypy-extensions-0.4.3 pathspec-0.9.0 platformdirs-2.5.1 pluggy-1.0.0 pylatexenc-2.10 pytest-7.0.1 pytest-forked-1.4.0 pytz-2020.5 quaternionic-1.0.1 requests-2.27.1 sgmllib3k-1.0.0 spherical-1.0.10 spinsfast-104.2021.3.22.15.7.51 sxs-2021.0.5 tqdm-4.61.1 typed-ast-1.5.2 urllib3-1.26.8\n"
          ]
        },
        {
          "output_type": "display_data",
          "data": {
            "application/vnd.colab-display-data+json": {
              "pip_warning": {
                "packages": [
                  "pytz",
                  "requests",
                  "tqdm",
                  "urllib3"
                ]
              }
            }
          },
          "metadata": {}
        }
      ]
    },
    {
      "cell_type": "markdown",
      "source": [
        "'sxs' is a library for simulation gravitational waves. We won't be needing this in this course."
      ],
      "metadata": {
        "id": "uGJRJ9JzKQ2F"
      }
    },
    {
      "cell_type": "markdown",
      "source": [
        "# Numpy\n",
        "\n",
        "Numpy is the standard library for doing numerical calculations for scientific purposes in python. It provides a new kind of data sructure called \"numpy array\". While it is more restrictive that normal python lists, it enables us to do vector operations which is (for the most part) much faster. It also provides a wide range of mathematical and statistical operations for the arrys. Let's import numpy and see some examples."
      ],
      "metadata": {
        "id": "DL-uBXefKbIS"
      }
    },
    {
      "cell_type": "code",
      "source": [
        "import numpy as np"
      ],
      "metadata": {
        "id": "B7kpoan6JsM8"
      },
      "execution_count": 2,
      "outputs": []
    },
    {
      "cell_type": "code",
      "source": [
        "a = np.array([1, 1, 2, 3, 5, 8, 13, 21, 34])\n",
        "print(a)"
      ],
      "metadata": {
        "colab": {
          "base_uri": "https://localhost:8080/"
        },
        "id": "DaElHodKQIz3",
        "outputId": "7b5e0f48-0154-4ead-cf78-620b902a5660"
      },
      "execution_count": 3,
      "outputs": [
        {
          "output_type": "stream",
          "name": "stdout",
          "text": [
            "[ 1  1  2  3  5  8 13 21 34]\n"
          ]
        }
      ]
    },
    {
      "cell_type": "code",
      "source": [
        "print(np.sum(a))"
      ],
      "metadata": {
        "colab": {
          "base_uri": "https://localhost:8080/"
        },
        "id": "nle3HxRYQVBp",
        "outputId": "4e85b2bb-03f3-41f4-dbbf-23348ae53570"
      },
      "execution_count": 4,
      "outputs": [
        {
          "output_type": "stream",
          "name": "stdout",
          "text": [
            "88\n"
          ]
        }
      ]
    },
    {
      "cell_type": "code",
      "source": [
        "a.max()"
      ],
      "metadata": {
        "colab": {
          "base_uri": "https://localhost:8080/"
        },
        "id": "wusgbQ1KQae5",
        "outputId": "fb38c50b-cfcc-424d-ba7a-a2451d0b75f2"
      },
      "execution_count": 5,
      "outputs": [
        {
          "output_type": "execute_result",
          "data": {
            "text/plain": [
              "34"
            ]
          },
          "metadata": {},
          "execution_count": 5
        }
      ]
    },
    {
      "cell_type": "code",
      "source": [
        "a.mean()"
      ],
      "metadata": {
        "colab": {
          "base_uri": "https://localhost:8080/"
        },
        "id": "RkYpGT6PQf5R",
        "outputId": "6d6d414d-225a-4373-dda0-e3e364559a35"
      },
      "execution_count": 6,
      "outputs": [
        {
          "output_type": "execute_result",
          "data": {
            "text/plain": [
              "9.777777777777779"
            ]
          },
          "metadata": {},
          "execution_count": 6
        }
      ]
    },
    {
      "cell_type": "markdown",
      "source": [
        "And for some vectorized operations:"
      ],
      "metadata": {
        "id": "7R38qRnARVC0"
      }
    },
    {
      "cell_type": "code",
      "source": [
        "print(3 * a)"
      ],
      "metadata": {
        "colab": {
          "base_uri": "https://localhost:8080/"
        },
        "id": "SQ26mSiBQisy",
        "outputId": "bbd98755-eb51-4023-8aaf-8b8f885f37ad"
      },
      "execution_count": 7,
      "outputs": [
        {
          "output_type": "stream",
          "name": "stdout",
          "text": [
            "[  3   3   6   9  15  24  39  63 102]\n"
          ]
        }
      ]
    },
    {
      "cell_type": "code",
      "source": [
        "b = np.ones(len(a))\n",
        "print(b)"
      ],
      "metadata": {
        "colab": {
          "base_uri": "https://localhost:8080/"
        },
        "id": "5k_XVQbpReDR",
        "outputId": "17c6fbcf-7ddc-44f8-9ce6-6739eae2e424"
      },
      "execution_count": 8,
      "outputs": [
        {
          "output_type": "stream",
          "name": "stdout",
          "text": [
            "[1. 1. 1. 1. 1. 1. 1. 1. 1.]\n"
          ]
        }
      ]
    },
    {
      "cell_type": "code",
      "source": [
        "print(a + b)"
      ],
      "metadata": {
        "colab": {
          "base_uri": "https://localhost:8080/"
        },
        "id": "yWAPPwt9Rkux",
        "outputId": "8f6cc888-1677-45e4-a6ca-1cf064180c7e"
      },
      "execution_count": 9,
      "outputs": [
        {
          "output_type": "stream",
          "name": "stdout",
          "text": [
            "[ 2.  2.  3.  4.  6.  9. 14. 22. 35.]\n"
          ]
        }
      ]
    },
    {
      "cell_type": "code",
      "source": [
        "for i in range(len(a)):\n",
        "  print(a[i] + b[i])"
      ],
      "metadata": {
        "colab": {
          "base_uri": "https://localhost:8080/"
        },
        "id": "UcqXY3VrRpmz",
        "outputId": "3294880b-d9ee-4d56-830e-0f95e8528ab3"
      },
      "execution_count": 10,
      "outputs": [
        {
          "output_type": "stream",
          "name": "stdout",
          "text": [
            "2.0\n",
            "2.0\n",
            "3.0\n",
            "4.0\n",
            "6.0\n",
            "9.0\n",
            "14.0\n",
            "22.0\n",
            "35.0\n"
          ]
        }
      ]
    },
    {
      "cell_type": "markdown",
      "source": [
        "As you might have noticed, array \"a\" shows the first 9 Fibonacci numbers. Now write a piece of code to turn b into a."
      ],
      "metadata": {
        "id": "cKyYeSrzR0pp"
      }
    },
    {
      "cell_type": "code",
      "source": [
        "for i in range(len(b)-2):\n",
        "    b[i+2] = b[i+1] + b[i]\n",
        "\n",
        "print(b)"
      ],
      "metadata": {
        "id": "Z8eITGJVRxYq",
        "colab": {
          "base_uri": "https://localhost:8080/"
        },
        "outputId": "812c4f3d-d81f-499d-83b3-648532283fb5"
      },
      "execution_count": 11,
      "outputs": [
        {
          "output_type": "stream",
          "name": "stdout",
          "text": [
            "[ 1.  1.  2.  3.  5.  8. 13. 21. 34.]\n"
          ]
        }
      ]
    },
    {
      "cell_type": "markdown",
      "source": [
        "As another exercise, make a numpy array of size 100 using \"linspace\" between 0 and 2$\\pi$, and calculate the sine of each member in a vectorized manner and put it in a new array."
      ],
      "metadata": {
        "id": "spvEllTiSrS9"
      }
    },
    {
      "cell_type": "code",
      "source": [
        "x = np.linspace(0 , 2*3.14 , 100)\n",
        "y = np.sin(x)\n",
        "print(y)"
      ],
      "metadata": {
        "id": "eNVqlpgMSjIJ",
        "colab": {
          "base_uri": "https://localhost:8080/"
        },
        "outputId": "7d0e3691-4a27-41ff-effd-57d2dd990be2"
      },
      "execution_count": 12,
      "outputs": [
        {
          "output_type": "stream",
          "name": "stdout",
          "text": [
            "[ 0.          0.06339181  0.12652862  0.18915646  0.25102341  0.3118806\n",
            "  0.37148323  0.42959154  0.48597179  0.54039719  0.5926488   0.64251645\n",
            "  0.68979953  0.73430784  0.77586235  0.81429591  0.8494539   0.88119491\n",
            "  0.90939126  0.93392951  0.95471098  0.97165205  0.98468459  0.99375617\n",
            "  0.9988303   0.99988657  0.99692072  0.9899447   0.97898656  0.96409038\n",
            "  0.94531608  0.92273918  0.89645051  0.8665558   0.83317531  0.79644332\n",
            "  0.75650759  0.71352875  0.66767969  0.61914485  0.56811946  0.51480877\n",
            "  0.45942722  0.4021976   0.34335012  0.28312148  0.22175397  0.15949444\n",
            "  0.09659333  0.03330367 -0.03011996 -0.09342243 -0.1563491  -0.21864685\n",
            " -0.28006507 -0.34035671 -0.39927925 -0.45659566 -0.51207538 -0.56549525\n",
            " -0.61664037 -0.66530501 -0.71129342 -0.75442061 -0.79451309 -0.83140959\n",
            " -0.86496168 -0.89503441 -0.92150681 -0.94427238 -0.96323955 -0.97833203\n",
            " -0.9894891  -0.99666589 -0.99983352 -0.99897925 -0.99410652 -0.98523494\n",
            " -0.97240018 -0.95565387 -0.93506338 -0.91071154 -0.8826963  -0.85113036\n",
            " -0.81614069 -0.77786803 -0.73646635 -0.69210219 -0.644954   -0.59521143\n",
            " -0.54307459 -0.4887532  -0.43246576 -0.3744387  -0.31490544 -0.25410545\n",
            " -0.1922833  -0.12968768 -0.06657038 -0.0031853 ]\n"
          ]
        }
      ]
    },
    {
      "cell_type": "markdown",
      "source": [
        "# Matplotlib\n",
        "\n",
        "Matplotlib is a library used for simple plotting. It is basically the python version of Matlab plot and is sufficient for most scientific purposes. There are also more advanced plotting libraries like \"Seaborn\" and \"Plotly\"."
      ],
      "metadata": {
        "id": "saZ3z0KYTUWj"
      }
    },
    {
      "cell_type": "code",
      "source": [
        "import matplotlib.pyplot as plt"
      ],
      "metadata": {
        "id": "02HbUlGcTV8A"
      },
      "execution_count": 13,
      "outputs": []
    },
    {
      "cell_type": "markdown",
      "source": [
        "Now lt's plot the sine function we made above"
      ],
      "metadata": {
        "id": "lQFAQDrL7wSF"
      }
    },
    {
      "cell_type": "code",
      "source": [
        "plt.plot(x, y)\n",
        "plt.show()"
      ],
      "metadata": {
        "id": "r9TQM6lx7OE6",
        "colab": {
          "base_uri": "https://localhost:8080/",
          "height": 265
        },
        "outputId": "377fcc0f-c615-4182-a095-077cabdd4879"
      },
      "execution_count": 14,
      "outputs": [
        {
          "output_type": "display_data",
          "data": {
            "image/png": "[encoded data removed]",
            "text/plain": [
              "<Figure size 432x288 with 1 Axes>"
            ]
          },
          "metadata": {
            "needs_background": "light"
          }
        }
      ]
    },
    {
      "cell_type": "markdown",
      "source": [
        "This is the basic plotting function. you can add labels, legends, change fonts, etc..\n",
        "\n",
        "As an exercise, add labels for the x and y axes to the plot above, and also label the line."
      ],
      "metadata": {
        "id": "CXqyajxWB8B9"
      }
    },
    {
      "cell_type": "code",
      "source": [
        "plt.xlabel('x')\n",
        "plt.ylabel('y')\n",
        "plt.legend('Sinx')\n",
        "plt.plot(x, y)\n",
        "plt.show()"
      ],
      "metadata": {
        "id": "xME_z74cFbmr",
        "colab": {
          "base_uri": "https://localhost:8080/",
          "height": 279
        },
        "outputId": "fb1d09a3-c687-4e61-f623-9788e0f9f62e"
      },
      "execution_count": 15,
      "outputs": [
        {
          "output_type": "display_data",
          "data": {
            "image/png": "[encoded data removed]",
            "text/plain": [
              "<Figure size 432x288 with 1 Axes>"
            ]
          },
          "metadata": {
            "needs_background": "light"
          }
        }
      ]
    },
    {
      "cell_type": "markdown",
      "source": [
        "# Reading and writing files using numpy"
      ],
      "metadata": {
        "id": "iFsiIHEhCTV1"
      }
    },
    {
      "cell_type": "markdown",
      "source": [
        "For reading and writing text files with numpy, we can use \"readtxt\" and \"savetxt\" commands. Let's see some examples."
      ],
      "metadata": {
        "id": "YvU9h3qB4mTh"
      }
    },
    {
      "cell_type": "code",
      "source": [
        "data_to_save = np.column_stack((x, y))\n",
        "np.savetxt('sine_function', data_to_save)"
      ],
      "metadata": {
        "id": "2F9Aj3U2B5lm"
      },
      "execution_count": 31,
      "outputs": []
    },
    {
      "cell_type": "markdown",
      "source": [
        "Now for exercise, try to save the data with a header."
      ],
      "metadata": {
        "id": "za8hZb0-6JQA"
      }
    },
    {
      "cell_type": "code",
      "source": [
        "data_to_read = np.loadtxt('sine_function')"
      ],
      "metadata": {
        "id": "PTbnSI7f5fFm"
      },
      "execution_count": 32,
      "outputs": []
    },
    {
      "cell_type": "markdown",
      "source": [
        "To see whether it's the same data or not, we can plot it."
      ],
      "metadata": {
        "id": "E-Kk80Rx6cz_"
      }
    },
    {
      "cell_type": "code",
      "source": [
        "plt.plot(data_to_read[:,0], data_to_read[:,1])\n",
        "plt.show()"
      ],
      "metadata": {
        "colab": {
          "base_uri": "https://localhost:8080/",
          "height": 265
        },
        "id": "XAxnOkuY6bs8",
        "outputId": "8318ab2a-31c5-4f01-e6ac-6b8733b6d807"
      },
      "execution_count": 33,
      "outputs": [
        {
          "output_type": "display_data",
          "data": {
            "image/png": "[encoded data removed]",
            "text/plain": [
              "<Figure size 432x288 with 1 Axes>"
            ]
          },
          "metadata": {
            "needs_background": "light"
          }
        }
      ]
    },
    {
      "cell_type": "markdown",
      "source": [
        "Now as an exercise, try to read the file into twe seperate variables. (insted of having just \"data_to_read\" read it into \"x\" and \"y\", each corresponding to an axis."
      ],
      "metadata": {
        "id": "6GeMrWtQ7DPQ"
      }
    },
    {
      "cell_type": "code",
      "source": [
        "np.savetxt('sinx', x)\n",
        "np.savetxt('siny', y)\n",
        "X = np.loadtxt('sinx')\n",
        "Y = np.loadtxt('siny')\n",
        "plt.plot(X[:], Y[:])\n",
        "plt.show()"
      ],
      "metadata": {
        "id": "I-yZxTmd7Rx-",
        "colab": {
          "base_uri": "https://localhost:8080/",
          "height": 265
        },
        "outputId": "d41aaaaf-a0bd-4d99-ffcf-2da3a43c527f"
      },
      "execution_count": 36,
      "outputs": [
        {
          "output_type": "display_data",
          "data": {
            "image/png": "[encoded data removed]",
            "text/plain": [
              "<Figure size 432x288 with 1 Axes>"
            ]
          },
          "metadata": {
            "needs_background": "light"
          }
        }
      ]
    },
    {
      "cell_type": "markdown",
      "source": [
        "# Functions"
      ],
      "metadata": {
        "id": "xmDKg62f7W_7"
      }
    },
    {
      "cell_type": "markdown",
      "source": [
        "Functions in python, are defined using the command \"def\". If a variable is defined inside of a function, when we run that function, the variable is local and it's value is lost when we retrun the function. On the other hand if we do not define a variable tha we use in a function, function tries to read a globally defined variable with the same name. If it is not defined before running the function, we will see an error.\n",
        "\n",
        "As an example, let's define a function that returns the sum of two input variables."
      ],
      "metadata": {
        "id": "PxzTkElg7g6U"
      }
    },
    {
      "cell_type": "code",
      "source": [
        "def my_sum_function(x, y):\n",
        "  return x + y"
      ],
      "metadata": {
        "id": "AyPpaWAa6tn4"
      },
      "execution_count": null,
      "outputs": []
    },
    {
      "cell_type": "code",
      "source": [
        "my_sum_function(10, 12)"
      ],
      "metadata": {
        "colab": {
          "base_uri": "https://localhost:8080/"
        },
        "id": "ei-6Gq_B8xCO",
        "outputId": "3a14de9f-188b-4797-ab0e-defe79bf7c71"
      },
      "execution_count": null,
      "outputs": [
        {
          "output_type": "execute_result",
          "data": {
            "text/plain": [
              "22"
            ]
          },
          "metadata": {},
          "execution_count": 26
        }
      ]
    },
    {
      "cell_type": "markdown",
      "source": [
        "Now try to write a function that reads a number N and returns the Nth Fibonacci number."
      ],
      "metadata": {
        "id": "8KL1PUGt81cZ"
      }
    },
    {
      "cell_type": "code",
      "source": [
        "def Fibonacci(N):\n",
        "  F = np.ones(N)\n",
        "  F[0] = 1\n",
        "  F[1] = 1\n",
        "  for i in range(N-2) :\n",
        "      F[i+2] = F[i] + F[i+1]\n",
        "\n",
        "\n",
        "  return F[N]\n",
        "\n",
        "  "
      ],
      "metadata": {
        "id": "mEabqHWb80ak"
      },
      "execution_count": 26,
      "outputs": []
    },
    {
      "cell_type": "code",
      "source": [
        "Fibonacci(8)"
      ],
      "metadata": {
        "colab": {
          "base_uri": "https://localhost:8080/",
          "height": 299
        },
        "id": "1MJuINCDN-K0",
        "outputId": "e60c75f9-621d-4b18-91ac-ec5a295052b7"
      },
      "execution_count": 27,
      "outputs": [
        {
          "output_type": "error",
          "ename": "IndexError",
          "evalue": "ignored",
          "traceback": [
            "\u001b[0;31m---------------------------------------------------------------------------\u001b[0m",
            "\u001b[0;31mIndexError\u001b[0m                                Traceback (most recent call last)",
            "\u001b[0;32m<ipython-input-27-921db796fb4c>\u001b[0m in \u001b[0;36m<module>\u001b[0;34m()\u001b[0m\n\u001b[0;32m----> 1\u001b[0;31m \u001b[0mFibonacci\u001b[0m\u001b[0;34m(\u001b[0m\u001b[0;36m8\u001b[0m\u001b[0;34m)\u001b[0m\u001b[0;34m\u001b[0m\u001b[0;34m\u001b[0m\u001b[0m\n\u001b[0m",
            "\u001b[0;32m<ipython-input-26-b450e42e4a5e>\u001b[0m in \u001b[0;36mFibonacci\u001b[0;34m(N)\u001b[0m\n\u001b[1;32m      7\u001b[0m \u001b[0;34m\u001b[0m\u001b[0m\n\u001b[1;32m      8\u001b[0m \u001b[0;34m\u001b[0m\u001b[0m\n\u001b[0;32m----> 9\u001b[0;31m   \u001b[0;32mreturn\u001b[0m \u001b[0mF\u001b[0m\u001b[0;34m[\u001b[0m\u001b[0mN\u001b[0m\u001b[0;34m]\u001b[0m\u001b[0;34m\u001b[0m\u001b[0;34m\u001b[0m\u001b[0m\n\u001b[0m\u001b[1;32m     10\u001b[0m \u001b[0;34m\u001b[0m\u001b[0m\n\u001b[1;32m     11\u001b[0m \u001b[0;34m\u001b[0m\u001b[0m\n",
            "\u001b[0;31mIndexError\u001b[0m: index 8 is out of bounds for axis 0 with size 8"
          ]
        }
      ]
    }
  ]
}